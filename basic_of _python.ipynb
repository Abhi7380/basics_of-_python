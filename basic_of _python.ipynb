{
 "cells": [
  {
   "cell_type": "code",
   "execution_count": 1,
   "id": "9854c9a2",
   "metadata": {},
   "outputs": [
    {
     "name": "stdout",
     "output_type": "stream",
     "text": [
      "hello world\n"
     ]
    }
   ],
   "source": [
    "print(\"hello world\")"
   ]
  },
  {
   "cell_type": "code",
   "execution_count": 2,
   "id": "bf8ad1ab",
   "metadata": {},
   "outputs": [
    {
     "name": "stdout",
     "output_type": "stream",
     "text": [
      "Abhishek\n"
     ]
    }
   ],
   "source": [
    "###print ur name\n",
    "print(\"Abhishek\")"
   ]
  },
  {
   "cell_type": "code",
   "execution_count": 3,
   "id": "8c8d8ed5",
   "metadata": {},
   "outputs": [],
   "source": [
    "### python is a case sensitive"
   ]
  },
  {
   "cell_type": "code",
   "execution_count": 4,
   "id": "771654e4",
   "metadata": {},
   "outputs": [
    {
     "name": "stdout",
     "output_type": "stream",
     "text": [
      "10\n"
     ]
    }
   ],
   "source": [
    "print(10)"
   ]
  },
  {
   "cell_type": "markdown",
   "id": "a573bae9",
   "metadata": {},
   "source": [
    "# basic of python"
   ]
  },
  {
   "cell_type": "markdown",
   "id": "bcc05497",
   "metadata": {},
   "source": [
    "# how to print the output"
   ]
  },
  {
   "cell_type": "markdown",
   "id": "7c81a8fb",
   "metadata": {},
   "source": [
    "## print hello world"
   ]
  },
  {
   "cell_type": "code",
   "execution_count": 5,
   "id": "4df99dba",
   "metadata": {},
   "outputs": [
    {
     "name": "stdout",
     "output_type": "stream",
     "text": [
      "hello world\n"
     ]
    }
   ],
   "source": [
    "print(\"hello world\")"
   ]
  },
  {
   "cell_type": "code",
   "execution_count": 7,
   "id": "1fe78a63",
   "metadata": {},
   "outputs": [
    {
     "name": "stdout",
     "output_type": "stream",
     "text": [
      "1\n"
     ]
    }
   ],
   "source": [
    "print(1)"
   ]
  },
  {
   "cell_type": "code",
   "execution_count": 8,
   "id": "e9816766",
   "metadata": {},
   "outputs": [
    {
     "name": "stdout",
     "output_type": "stream",
     "text": [
      "Welcome to the python course\n"
     ]
    }
   ],
   "source": [
    "print(\"Welcome to the python course\")"
   ]
  },
  {
   "cell_type": "code",
   "execution_count": 9,
   "id": "6910a8f1",
   "metadata": {},
   "outputs": [
    {
     "name": "stdout",
     "output_type": "stream",
     "text": [
      "Hello\n"
     ]
    }
   ],
   "source": [
    "print(\"Hello\")"
   ]
  },
  {
   "cell_type": "markdown",
   "id": "0f391926",
   "metadata": {},
   "source": [
    "# #sortcut key "
   ]
  },
  {
   "cell_type": "markdown",
   "id": "578b196d",
   "metadata": {},
   "source": [
    "# ##Run >shift+Enter"
   ]
  },
  {
   "cell_type": "markdown",
   "id": "cb383e7c",
   "metadata": {},
   "source": [
    "### insert cell above >a"
   ]
  },
  {
   "cell_type": "markdown",
   "id": "7ca3830b",
   "metadata": {},
   "source": [
    "#### inser cell above > b"
   ]
  },
  {
   "cell_type": "markdown",
   "id": "aebf8c2b",
   "metadata": {},
   "source": [
    "#### delet a cell > x"
   ]
  },
  {
   "cell_type": "markdown",
   "id": "aee25e31",
   "metadata": {},
   "source": [
    "#### Add comment > M and Shift+ Enter"
   ]
  },
  {
   "cell_type": "markdown",
   "id": "5353597e",
   "metadata": {},
   "source": [
    "### varables"
   ]
  },
  {
   "cell_type": "code",
   "execution_count": 12,
   "id": "ef68f906",
   "metadata": {},
   "outputs": [
    {
     "data": {
      "text/plain": [
       "10"
      ]
     },
     "execution_count": 12,
     "metadata": {},
     "output_type": "execute_result"
    }
   ],
   "source": [
    "x=10\n",
    "x"
   ]
  },
  {
   "cell_type": "code",
   "execution_count": 13,
   "id": "dc32be02",
   "metadata": {},
   "outputs": [
    {
     "name": "stdout",
     "output_type": "stream",
     "text": [
      "ai\n"
     ]
    }
   ],
   "source": [
    "course =\"ai\"\n",
    "print(course)"
   ]
  },
  {
   "cell_type": "code",
   "execution_count": 14,
   "id": "e9b859ad",
   "metadata": {},
   "outputs": [
    {
     "name": "stdout",
     "output_type": "stream",
     "text": [
      "10\n"
     ]
    }
   ],
   "source": [
    "print(x)"
   ]
  },
  {
   "cell_type": "code",
   "execution_count": 15,
   "id": "ad6afe33",
   "metadata": {},
   "outputs": [
    {
     "data": {
      "text/plain": [
       "1000"
      ]
     },
     "execution_count": 15,
     "metadata": {},
     "output_type": "execute_result"
    }
   ],
   "source": [
    "y=1000\n",
    "y"
   ]
  },
  {
   "cell_type": "code",
   "execution_count": 16,
   "id": "b38cb873",
   "metadata": {},
   "outputs": [
    {
     "name": "stdout",
     "output_type": "stream",
     "text": [
      "1000\n"
     ]
    }
   ],
   "source": [
    "print(y)"
   ]
  },
  {
   "cell_type": "code",
   "execution_count": 17,
   "id": "24945618",
   "metadata": {},
   "outputs": [],
   "source": [
    "name=\"Abhishek kumar\"\n",
    "gender=\"male\"\n",
    "course=\"Btech\""
   ]
  },
  {
   "cell_type": "code",
   "execution_count": 18,
   "id": "efc33370",
   "metadata": {},
   "outputs": [
    {
     "data": {
      "text/plain": [
       "'Btech'"
      ]
     },
     "execution_count": 18,
     "metadata": {},
     "output_type": "execute_result"
    }
   ],
   "source": [
    "name\n",
    "course"
   ]
  },
  {
   "cell_type": "code",
   "execution_count": 19,
   "id": "68ea7077",
   "metadata": {},
   "outputs": [
    {
     "data": {
      "text/plain": [
       "'male'"
      ]
     },
     "execution_count": 19,
     "metadata": {},
     "output_type": "execute_result"
    }
   ],
   "source": [
    "gender"
   ]
  },
  {
   "cell_type": "code",
   "execution_count": 20,
   "id": "d8dc3327",
   "metadata": {},
   "outputs": [
    {
     "name": "stdout",
     "output_type": "stream",
     "text": [
      "Abhishek kumar\n",
      "male\n",
      "Btech\n"
     ]
    }
   ],
   "source": [
    "print(name)\n",
    "print(gender)\n",
    "print(course)"
   ]
  },
  {
   "cell_type": "code",
   "execution_count": 21,
   "id": "b70a13aa",
   "metadata": {},
   "outputs": [
    {
     "data": {
      "text/plain": [
       "('Abhishek kumar', 'male', 'Btech')"
      ]
     },
     "execution_count": 21,
     "metadata": {},
     "output_type": "execute_result"
    }
   ],
   "source": [
    "name,gender,course"
   ]
  },
  {
   "cell_type": "code",
   "execution_count": 22,
   "id": "8bbbe65d",
   "metadata": {},
   "outputs": [
    {
     "data": {
      "text/plain": [
       "'male'"
      ]
     },
     "execution_count": 22,
     "metadata": {},
     "output_type": "execute_result"
    }
   ],
   "source": [
    "gender"
   ]
  },
  {
   "cell_type": "code",
   "execution_count": 23,
   "id": "7b197f1c",
   "metadata": {},
   "outputs": [
    {
     "ename": "NameError",
     "evalue": "name 'Gender' is not defined",
     "output_type": "error",
     "traceback": [
      "\u001b[1;31m---------------------------------------------------------------------------\u001b[0m",
      "\u001b[1;31mNameError\u001b[0m                                 Traceback (most recent call last)",
      "Cell \u001b[1;32mIn [23], line 1\u001b[0m\n\u001b[1;32m----> 1\u001b[0m \u001b[43mGender\u001b[49m\n",
      "\u001b[1;31mNameError\u001b[0m: name 'Gender' is not defined"
     ]
    }
   ],
   "source": [
    "Gender"
   ]
  },
  {
   "cell_type": "code",
   "execution_count": 24,
   "id": "e370ad40",
   "metadata": {},
   "outputs": [
    {
     "data": {
      "text/plain": [
       "18"
      ]
     },
     "execution_count": 24,
     "metadata": {},
     "output_type": "execute_result"
    }
   ],
   "source": [
    "y=18\n",
    "x=\"Abhishek\"\n",
    "x\n",
    "y"
   ]
  },
  {
   "cell_type": "code",
   "execution_count": 25,
   "id": "fdc33486",
   "metadata": {},
   "outputs": [
    {
     "data": {
      "text/plain": [
       "('Abhishek', 18)"
      ]
     },
     "execution_count": 25,
     "metadata": {},
     "output_type": "execute_result"
    }
   ],
   "source": [
    "x,y"
   ]
  },
  {
   "cell_type": "code",
   "execution_count": 26,
   "id": "1c2c9e37",
   "metadata": {},
   "outputs": [
    {
     "data": {
      "text/plain": [
       "(18, 'Abhishek')"
      ]
     },
     "execution_count": 26,
     "metadata": {},
     "output_type": "execute_result"
    }
   ],
   "source": [
    "y,x"
   ]
  },
  {
   "cell_type": "code",
   "execution_count": 28,
   "id": "b496db6c",
   "metadata": {},
   "outputs": [
    {
     "name": "stdout",
     "output_type": "stream",
     "text": [
      "Abhishek 18\n"
     ]
    }
   ],
   "source": [
    "print(x,y)"
   ]
  },
  {
   "cell_type": "code",
   "execution_count": 29,
   "id": "ce5ed4ed",
   "metadata": {},
   "outputs": [
    {
     "data": {
      "text/plain": [
       "18"
      ]
     },
     "execution_count": 29,
     "metadata": {},
     "output_type": "execute_result"
    }
   ],
   "source": [
    "z=y\n",
    "z"
   ]
  },
  {
   "cell_type": "code",
   "execution_count": 30,
   "id": "14fa39c0",
   "metadata": {},
   "outputs": [
    {
     "name": "stdout",
     "output_type": "stream",
     "text": [
      "test\n"
     ]
    }
   ],
   "source": [
    "x=y=z=\"test\"\n",
    "print(z)"
   ]
  },
  {
   "cell_type": "code",
   "execution_count": 31,
   "id": "24a46880",
   "metadata": {},
   "outputs": [
    {
     "data": {
      "text/plain": [
       "25"
      ]
     },
     "execution_count": 31,
     "metadata": {},
     "output_type": "execute_result"
    }
   ],
   "source": [
    "x,y,z=23,25,22\n",
    "y"
   ]
  },
  {
   "cell_type": "code",
   "execution_count": 32,
   "id": "1aae7367",
   "metadata": {},
   "outputs": [
    {
     "data": {
      "text/plain": [
       "23"
      ]
     },
     "execution_count": 32,
     "metadata": {},
     "output_type": "execute_result"
    }
   ],
   "source": [
    "x"
   ]
  },
  {
   "cell_type": "code",
   "execution_count": 33,
   "id": "b796fe34",
   "metadata": {},
   "outputs": [
    {
     "data": {
      "text/plain": [
       "22"
      ]
     },
     "execution_count": 33,
     "metadata": {},
     "output_type": "execute_result"
    }
   ],
   "source": [
    "z"
   ]
  },
  {
   "cell_type": "code",
   "execution_count": 34,
   "id": "8f5ef9c9",
   "metadata": {},
   "outputs": [],
   "source": [
    "x=5"
   ]
  },
  {
   "cell_type": "markdown",
   "id": "411386ff",
   "metadata": {},
   "source": [
    "### Rules for nameing the variable"
   ]
  },
  {
   "cell_type": "markdown",
   "id": "d58f187f",
   "metadata": {},
   "source": [
    "### varisble can have alphabets[A-Z,a-z]"
   ]
  },
  {
   "cell_type": "markdown",
   "id": "ff2b86c9",
   "metadata": {},
   "source": [
    "### variable name should not start with a number "
   ]
  },
  {
   "cell_type": "markdown",
   "id": "888a244e",
   "metadata": {},
   "source": [
    "### variable do not allow spl characters other hen underscore "
   ]
  },
  {
   "cell_type": "markdown",
   "id": "075358c8",
   "metadata": {},
   "source": [
    "### case sensitive"
   ]
  },
  {
   "cell_type": "code",
   "execution_count": 35,
   "id": "5216d4b6",
   "metadata": {},
   "outputs": [
    {
     "data": {
      "text/plain": [
       "['DS with python', 'BA with python']"
      ]
     },
     "execution_count": 35,
     "metadata": {},
     "output_type": "execute_result"
    }
   ],
   "source": [
    "Book=[\"DS with python\",\"BA with python\"]\n",
    "Book"
   ]
  },
  {
   "cell_type": "code",
   "execution_count": 36,
   "id": "a8c36413",
   "metadata": {},
   "outputs": [
    {
     "ename": "NameError",
     "evalue": "name 'book' is not defined",
     "output_type": "error",
     "traceback": [
      "\u001b[1;31m---------------------------------------------------------------------------\u001b[0m",
      "\u001b[1;31mNameError\u001b[0m                                 Traceback (most recent call last)",
      "Cell \u001b[1;32mIn [36], line 1\u001b[0m\n\u001b[1;32m----> 1\u001b[0m \u001b[43mbook\u001b[49m\n",
      "\u001b[1;31mNameError\u001b[0m: name 'book' is not defined"
     ]
    }
   ],
   "source": [
    "book### python is case sensitive"
   ]
  },
  {
   "cell_type": "code",
   "execution_count": 39,
   "id": "407b05ce",
   "metadata": {},
   "outputs": [
    {
     "ename": "SyntaxError",
     "evalue": "invalid decimal literal (2020214777.py, line 1)",
     "output_type": "error",
     "traceback": [
      "\u001b[1;36m  Cell \u001b[1;32mIn [39], line 1\u001b[1;36m\u001b[0m\n\u001b[1;33m    2books=[\"DS with python\",\"BA with python\"]\u001b[0m\n\u001b[1;37m    ^\u001b[0m\n\u001b[1;31mSyntaxError\u001b[0m\u001b[1;31m:\u001b[0m invalid decimal literal\n"
     ]
    }
   ],
   "source": [
    "2books=[\"DS with python\",\"BA with python\"]\n",
    "2books"
   ]
  },
  {
   "cell_type": "code",
   "execution_count": 40,
   "id": "cd02cc3b",
   "metadata": {},
   "outputs": [
    {
     "data": {
      "text/plain": [
       "['DS with python', 'BA with python']"
      ]
     },
     "execution_count": 40,
     "metadata": {},
     "output_type": "execute_result"
    }
   ],
   "source": [
    "b2ook=[\"DS with python\",\"BA with python\"]\n",
    "b2ook"
   ]
  },
  {
   "cell_type": "code",
   "execution_count": 41,
   "id": "50680d1c",
   "metadata": {},
   "outputs": [
    {
     "ename": "SyntaxError",
     "evalue": "cannot assign to expression here. Maybe you meant '==' instead of '='? (3715301045.py, line 1)",
     "output_type": "error",
     "traceback": [
      "\u001b[1;36m  Cell \u001b[1;32mIn [41], line 1\u001b[1;36m\u001b[0m\n\u001b[1;33m    books-lists=[\"DS with Python\",\"BA with Python\"]\u001b[0m\n\u001b[1;37m    ^\u001b[0m\n\u001b[1;31mSyntaxError\u001b[0m\u001b[1;31m:\u001b[0m cannot assign to expression here. Maybe you meant '==' instead of '='?\n"
     ]
    }
   ],
   "source": [
    "books-lists=[\"DS with Python\",\"BA with Python\"]\n",
    "books-lists"
   ]
  },
  {
   "cell_type": "code",
   "execution_count": 42,
   "id": "4bc0d5e6",
   "metadata": {},
   "outputs": [
    {
     "data": {
      "text/plain": [
       "['DS with Python', 'BA with Python']"
      ]
     },
     "execution_count": 42,
     "metadata": {},
     "output_type": "execute_result"
    }
   ],
   "source": [
    "books_lists=[\"DS with Python\",\"BA with Python\"]\n",
    "books_lists"
   ]
  },
  {
   "cell_type": "code",
   "execution_count": 43,
   "id": "5b1e55f3",
   "metadata": {},
   "outputs": [
    {
     "ename": "SyntaxError",
     "evalue": "invalid syntax (160110619.py, line 1)",
     "output_type": "error",
     "traceback": [
      "\u001b[1;36m  Cell \u001b[1;32mIn [43], line 1\u001b[1;36m\u001b[0m\n\u001b[1;33m    book names=\"Python\",\"R\"\u001b[0m\n\u001b[1;37m         ^\u001b[0m\n\u001b[1;31mSyntaxError\u001b[0m\u001b[1;31m:\u001b[0m invalid syntax\n"
     ]
    }
   ],
   "source": [
    "\n",
    "book names=\"Python\",\"R\""
   ]
  },
  {
   "cell_type": "markdown",
   "id": "14067b91",
   "metadata": {},
   "source": [
    "### Rules for naming variables\n",
    "### Case-sensitive\n",
    "### It should start with A-Z,a-z or\n",
    "### It should not start with a number but it can have\n",
    "numbers\n",
    "### Space is not allowed"
   ]
  },
  {
   "cell_type": "code",
   "execution_count": 44,
   "id": "bdb8f8f1",
   "metadata": {},
   "outputs": [
    {
     "data": {
      "text/plain": [
       "int"
      ]
     },
     "execution_count": 44,
     "metadata": {},
     "output_type": "execute_result"
    }
   ],
   "source": [
    "### Data Types\n",
    "x=107\n",
    "type(x)"
   ]
  },
  {
   "cell_type": "code",
   "execution_count": 45,
   "id": "68918812",
   "metadata": {},
   "outputs": [
    {
     "data": {
      "text/plain": [
       "float"
      ]
     },
     "execution_count": 45,
     "metadata": {},
     "output_type": "execute_result"
    }
   ],
   "source": [
    "y=12.300\n",
    "type(y)"
   ]
  },
  {
   "cell_type": "code",
   "execution_count": 46,
   "id": "0e19e616",
   "metadata": {},
   "outputs": [
    {
     "data": {
      "text/plain": [
       "str"
      ]
     },
     "execution_count": 46,
     "metadata": {},
     "output_type": "execute_result"
    }
   ],
   "source": [
    "z=\"Analytics\"\n",
    "type(z)"
   ]
  },
  {
   "cell_type": "code",
   "execution_count": 47,
   "id": "d70e58b7",
   "metadata": {},
   "outputs": [
    {
     "data": {
      "text/plain": [
       "'Analytics'"
      ]
     },
     "execution_count": 47,
     "metadata": {},
     "output_type": "execute_result"
    }
   ],
   "source": [
    "z"
   ]
  },
  {
   "cell_type": "code",
   "execution_count": 48,
   "id": "ad225344",
   "metadata": {},
   "outputs": [
    {
     "ename": "NameError",
     "evalue": "name 'Analytics' is not defined",
     "output_type": "error",
     "traceback": [
      "\u001b[1;31m---------------------------------------------------------------------------\u001b[0m",
      "\u001b[1;31mNameError\u001b[0m                                 Traceback (most recent call last)",
      "Cell \u001b[1;32mIn [48], line 1\u001b[0m\n\u001b[1;32m----> 1\u001b[0m z\u001b[38;5;241m=\u001b[39m\u001b[43mAnalytics\u001b[49m\n\u001b[0;32m      2\u001b[0m z\n",
      "\u001b[1;31mNameError\u001b[0m: name 'Analytics' is not defined"
     ]
    }
   ],
   "source": [
    "z=Analytics\n",
    "z"
   ]
  },
  {
   "cell_type": "code",
   "execution_count": 49,
   "id": "ce4b5bfd",
   "metadata": {},
   "outputs": [
    {
     "data": {
      "text/plain": [
       "'Analytics'"
      ]
     },
     "execution_count": 49,
     "metadata": {},
     "output_type": "execute_result"
    }
   ],
   "source": [
    "z='Analytics'\n",
    "z"
   ]
  },
  {
   "cell_type": "code",
   "execution_count": 50,
   "id": "55e98c36",
   "metadata": {},
   "outputs": [
    {
     "data": {
      "text/plain": [
       "bool"
      ]
     },
     "execution_count": 50,
     "metadata": {},
     "output_type": "execute_result"
    }
   ],
   "source": [
    "e=False\n",
    "type(e)"
   ]
  },
  {
   "cell_type": "code",
   "execution_count": 51,
   "id": "87762de1",
   "metadata": {},
   "outputs": [
    {
     "data": {
      "text/plain": [
       "(True, bool)"
      ]
     },
     "execution_count": 51,
     "metadata": {},
     "output_type": "execute_result"
    }
   ],
   "source": [
    "z=True\n",
    "z,type(z)\n"
   ]
  },
  {
   "cell_type": "code",
   "execution_count": 52,
   "id": "413bf3da",
   "metadata": {},
   "outputs": [
    {
     "data": {
      "text/plain": [
       "str"
      ]
     },
     "execution_count": 52,
     "metadata": {},
     "output_type": "execute_result"
    }
   ],
   "source": [
    "e=\"True\"\n",
    "type(e)"
   ]
  },
  {
   "cell_type": "code",
   "execution_count": 53,
   "id": "5e2eaa96",
   "metadata": {},
   "outputs": [
    {
     "data": {
      "text/plain": [
       "complex"
      ]
     },
     "execution_count": 53,
     "metadata": {},
     "output_type": "execute_result"
    }
   ],
   "source": [
    " h=2-3j\n",
    "type(h)"
   ]
  },
  {
   "cell_type": "code",
   "execution_count": 54,
   "id": "5aedfd3d",
   "metadata": {},
   "outputs": [
    {
     "data": {
      "text/plain": [
       "5.0"
      ]
     },
     "execution_count": 54,
     "metadata": {},
     "output_type": "execute_result"
    }
   ],
   "source": [
    "### implicit conversion(no inv of a programmer)\n",
    "x=30\n",
    "y=6\n",
    "z=x/y\n",
    "z"
   ]
  },
  {
   "cell_type": "code",
   "execution_count": 55,
   "id": "0fb37351",
   "metadata": {},
   "outputs": [
    {
     "data": {
      "text/plain": [
       "float"
      ]
     },
     "execution_count": 55,
     "metadata": {},
     "output_type": "execute_result"
    }
   ],
   "source": [
    "type(z)"
   ]
  },
  {
   "cell_type": "code",
   "execution_count": 56,
   "id": "313a5685",
   "metadata": {},
   "outputs": [],
   "source": [
    "### Explicit Conversion\n",
    "\n"
   ]
  },
  {
   "cell_type": "code",
   "execution_count": 57,
   "id": "6950c035",
   "metadata": {},
   "outputs": [
    {
     "data": {
      "text/plain": [
       "36"
      ]
     },
     "execution_count": 57,
     "metadata": {},
     "output_type": "execute_result"
    }
   ],
   "source": [
    "\n",
    "z=x+int(y)\n",
    "z"
   ]
  },
  {
   "cell_type": "code",
   "execution_count": 59,
   "id": "f735a13a",
   "metadata": {},
   "outputs": [
    {
     "data": {
      "text/plain": [
       "21.0"
      ]
     },
     "execution_count": 59,
     "metadata": {},
     "output_type": "execute_result"
    }
   ],
   "source": [
    "x=21\n",
    "float(x)\n"
   ]
  },
  {
   "cell_type": "code",
   "execution_count": 60,
   "id": "9ba72e9e",
   "metadata": {},
   "outputs": [
    {
     "data": {
      "text/plain": [
       "5"
      ]
     },
     "execution_count": 60,
     "metadata": {},
     "output_type": "execute_result"
    }
   ],
   "source": [
    "x=5.6\n",
    "int(x)"
   ]
  },
  {
   "cell_type": "code",
   "execution_count": 61,
   "id": "1b50031f",
   "metadata": {},
   "outputs": [
    {
     "data": {
      "text/plain": [
       "'5.6'"
      ]
     },
     "execution_count": 61,
     "metadata": {},
     "output_type": "execute_result"
    }
   ],
   "source": [
    "str(x)"
   ]
  },
  {
   "cell_type": "code",
   "execution_count": 62,
   "id": "978e415e",
   "metadata": {},
   "outputs": [
    {
     "data": {
      "text/plain": [
       "True"
      ]
     },
     "execution_count": 62,
     "metadata": {},
     "output_type": "execute_result"
    }
   ],
   "source": [
    "bool(x)"
   ]
  },
  {
   "cell_type": "code",
   "execution_count": 63,
   "id": "c841b4a6",
   "metadata": {},
   "outputs": [
    {
     "ename": "ValueError",
     "evalue": "invalid literal for int() with base 10: 'Analytics'",
     "output_type": "error",
     "traceback": [
      "\u001b[1;31m---------------------------------------------------------------------------\u001b[0m",
      "\u001b[1;31mValueError\u001b[0m                                Traceback (most recent call last)",
      "Cell \u001b[1;32mIn [63], line 2\u001b[0m\n\u001b[0;32m      1\u001b[0m x\u001b[38;5;241m=\u001b[39m\u001b[38;5;124m\"\u001b[39m\u001b[38;5;124mAnalytics\u001b[39m\u001b[38;5;124m\"\u001b[39m\n\u001b[1;32m----> 2\u001b[0m \u001b[38;5;28;43mint\u001b[39;49m\u001b[43m(\u001b[49m\u001b[43mx\u001b[49m\u001b[43m)\u001b[49m\n",
      "\u001b[1;31mValueError\u001b[0m: invalid literal for int() with base 10: 'Analytics'"
     ]
    }
   ],
   "source": [
    "x=\"Analytics\"\n",
    "int(x)"
   ]
  },
  {
   "cell_type": "code",
   "execution_count": 64,
   "id": "a075d60e",
   "metadata": {},
   "outputs": [
    {
     "data": {
      "text/plain": [
       "True"
      ]
     },
     "execution_count": 64,
     "metadata": {},
     "output_type": "execute_result"
    }
   ],
   "source": [
    "x=\"Analytics\"\n",
    "bool(x)"
   ]
  },
  {
   "cell_type": "code",
   "execution_count": 65,
   "id": "40dff2d7",
   "metadata": {},
   "outputs": [
    {
     "name": "stdout",
     "output_type": "stream",
     "text": [
      "Python56\n"
     ]
    }
   ],
   "source": [
    "print(\"Python\"+str(56))\n"
   ]
  },
  {
   "cell_type": "code",
   "execution_count": 66,
   "id": "08416e8c",
   "metadata": {},
   "outputs": [
    {
     "data": {
      "text/plain": [
       "40"
      ]
     },
     "execution_count": 66,
     "metadata": {},
     "output_type": "execute_result"
    }
   ],
   "source": [
    "### Arithmetic Operators\n",
    "x=19\n",
    "y=21\n",
    "x+y"
   ]
  },
  {
   "cell_type": "code",
   "execution_count": 67,
   "id": "2454da77",
   "metadata": {},
   "outputs": [
    {
     "data": {
      "text/plain": [
       "-2"
      ]
     },
     "execution_count": 67,
     "metadata": {},
     "output_type": "execute_result"
    }
   ],
   "source": [
    "\n",
    "x-y"
   ]
  },
  {
   "cell_type": "code",
   "execution_count": 68,
   "id": "f712cdec",
   "metadata": {},
   "outputs": [
    {
     "data": {
      "text/plain": [
       "399"
      ]
     },
     "execution_count": 68,
     "metadata": {},
     "output_type": "execute_result"
    }
   ],
   "source": [
    "x*y"
   ]
  },
  {
   "cell_type": "code",
   "execution_count": 69,
   "id": "9538ff71",
   "metadata": {},
   "outputs": [
    {
     "data": {
      "text/plain": [
       "0.9047619047619048"
      ]
     },
     "execution_count": 69,
     "metadata": {},
     "output_type": "execute_result"
    }
   ],
   "source": [
    "x/y"
   ]
  },
  {
   "cell_type": "code",
   "execution_count": 70,
   "id": "8108fb94",
   "metadata": {},
   "outputs": [
    {
     "data": {
      "text/plain": [
       "714209495693373205673756419"
      ]
     },
     "execution_count": 70,
     "metadata": {},
     "output_type": "execute_result"
    }
   ],
   "source": [
    "x**y ### x to the power y"
   ]
  },
  {
   "cell_type": "code",
   "execution_count": 71,
   "id": "983e41ee",
   "metadata": {},
   "outputs": [
    {
     "data": {
      "text/plain": [
       "19"
      ]
     },
     "execution_count": 71,
     "metadata": {},
     "output_type": "execute_result"
    }
   ],
   "source": [
    "x%y ## Remainder when x>y,x when x<y"
   ]
  },
  {
   "cell_type": "code",
   "execution_count": 72,
   "id": "0d3b27de",
   "metadata": {},
   "outputs": [
    {
     "data": {
      "text/plain": [
       "3"
      ]
     },
     "execution_count": 72,
     "metadata": {},
     "output_type": "execute_result"
    }
   ],
   "source": [
    "x=15\n",
    "y=4\n",
    "x%y"
   ]
  },
  {
   "cell_type": "code",
   "execution_count": 73,
   "id": "15d41036",
   "metadata": {},
   "outputs": [
    {
     "data": {
      "text/plain": [
       "4"
      ]
     },
     "execution_count": 73,
     "metadata": {},
     "output_type": "execute_result"
    }
   ],
   "source": [
    "x=4\n",
    "y=15\n",
    "x%y"
   ]
  },
  {
   "cell_type": "code",
   "execution_count": 74,
   "id": "045a3c7b",
   "metadata": {},
   "outputs": [
    {
     "data": {
      "text/plain": [
       "3"
      ]
     },
     "execution_count": 74,
     "metadata": {},
     "output_type": "execute_result"
    }
   ],
   "source": [
    "x=17 ### x>y=>Quotient,x<y=>0\n",
    "y=5\n",
    "x//y\n"
   ]
  },
  {
   "cell_type": "code",
   "execution_count": 75,
   "id": "98f88c52",
   "metadata": {},
   "outputs": [
    {
     "data": {
      "text/plain": [
       "0"
      ]
     },
     "execution_count": 75,
     "metadata": {},
     "output_type": "execute_result"
    }
   ],
   "source": [
    "x=1\n",
    "y=18\n",
    "x//y\n"
   ]
  },
  {
   "cell_type": "code",
   "execution_count": 76,
   "id": "7637777c",
   "metadata": {},
   "outputs": [
    {
     "data": {
      "text/plain": [
       "0"
      ]
     },
     "execution_count": 76,
     "metadata": {},
     "output_type": "execute_result"
    }
   ],
   "source": [
    "x=100\n",
    "y=1000000000000000\n",
    "x//y"
   ]
  },
  {
   "cell_type": "code",
   "execution_count": 77,
   "id": "2352c760",
   "metadata": {},
   "outputs": [
    {
     "data": {
      "text/plain": [
       "True"
      ]
     },
     "execution_count": 77,
     "metadata": {},
     "output_type": "execute_result"
    }
   ],
   "source": [
    "### Relational Operators\n",
    "a=5\n",
    "b=4\n",
    "a>b"
   ]
  },
  {
   "cell_type": "code",
   "execution_count": 78,
   "id": "a39b8b9d",
   "metadata": {},
   "outputs": [
    {
     "data": {
      "text/plain": [
       "False"
      ]
     },
     "execution_count": 78,
     "metadata": {},
     "output_type": "execute_result"
    }
   ],
   "source": [
    "a<b"
   ]
  },
  {
   "cell_type": "code",
   "execution_count": 79,
   "id": "9218c445",
   "metadata": {},
   "outputs": [
    {
     "data": {
      "text/plain": [
       "True"
      ]
     },
     "execution_count": 79,
     "metadata": {},
     "output_type": "execute_result"
    }
   ],
   "source": [
    "\n",
    "a>=b\n"
   ]
  },
  {
   "cell_type": "code",
   "execution_count": 80,
   "id": "742d5240",
   "metadata": {},
   "outputs": [
    {
     "data": {
      "text/plain": [
       "False"
      ]
     },
     "execution_count": 80,
     "metadata": {},
     "output_type": "execute_result"
    }
   ],
   "source": [
    "a<=b"
   ]
  },
  {
   "cell_type": "code",
   "execution_count": 81,
   "id": "5920baa8",
   "metadata": {},
   "outputs": [
    {
     "name": "stdout",
     "output_type": "stream",
     "text": [
      "-1 is lesser than zero\n"
     ]
    }
   ],
   "source": [
    "num=-1\n",
    "if(num>0):\n",
    " print(num,\"is greater than zero\")\n",
    "else:\n",
    "    print(num,\"is lesser than zero\")\n"
   ]
  },
  {
   "cell_type": "code",
   "execution_count": 82,
   "id": "88e03bdf",
   "metadata": {},
   "outputs": [
    {
     "ename": "IndentationError",
     "evalue": "expected an indented block after 'if' statement on line 7 (2379891634.py, line 8)",
     "output_type": "error",
     "traceback": [
      "\u001b[1;36m  Cell \u001b[1;32mIn [82], line 8\u001b[1;36m\u001b[0m\n\u001b[1;33m    print(z,\"is greater\")\u001b[0m\n\u001b[1;37m    ^\u001b[0m\n\u001b[1;31mIndentationError\u001b[0m\u001b[1;31m:\u001b[0m expected an indented block after 'if' statement on line 7\n"
     ]
    }
   ],
   "source": [
    "x=100\n",
    "y=34\n",
    "z=500\n",
    "if (x>y):\n",
    " print(x,\"is greater\")\n",
    "else:\n",
    " if(z>y):\n",
    " print(z,\"is greater\")\n",
    " else:\n",
    " print(y,\"is greater\")"
   ]
  },
  {
   "cell_type": "markdown",
   "id": "8c341ca8",
   "metadata": {},
   "source": [
    "### Data structure "
   ]
  },
  {
   "cell_type": "markdown",
   "id": "4406976d",
   "metadata": {},
   "source": [
    "#### list -> elements are saperted by comma and enclosed with square bracket \n",
    "#### hetrogenous \n",
    "#### list can be retriveed using index \n",
    "#### Mutable - can make the changes after creating the  list"
   ]
  },
  {
   "cell_type": "code",
   "execution_count": 85,
   "id": "9bf89889",
   "metadata": {},
   "outputs": [
    {
     "data": {
      "text/plain": [
       "[1, 13.6, 'hi', 12, 1]"
      ]
     },
     "execution_count": 85,
     "metadata": {},
     "output_type": "execute_result"
    }
   ],
   "source": [
    "sample_list=[1,13.6,\"hi\",12,1]\n",
    "sample_list\n"
   ]
  },
  {
   "cell_type": "code",
   "execution_count": 86,
   "id": "80c3bf5c",
   "metadata": {},
   "outputs": [
    {
     "data": {
      "text/plain": [
       "list"
      ]
     },
     "execution_count": 86,
     "metadata": {},
     "output_type": "execute_result"
    }
   ],
   "source": [
    "type(sample_list)"
   ]
  },
  {
   "cell_type": "code",
   "execution_count": 87,
   "id": "721340c9",
   "metadata": {},
   "outputs": [
    {
     "data": {
      "text/plain": [
       "12"
      ]
     },
     "execution_count": 87,
     "metadata": {},
     "output_type": "execute_result"
    }
   ],
   "source": [
    "sample_list[3]"
   ]
  },
  {
   "cell_type": "code",
   "execution_count": 88,
   "id": "d27852a0",
   "metadata": {},
   "outputs": [
    {
     "ename": "IndexError",
     "evalue": "list index out of range",
     "output_type": "error",
     "traceback": [
      "\u001b[1;31m---------------------------------------------------------------------------\u001b[0m",
      "\u001b[1;31mIndexError\u001b[0m                                Traceback (most recent call last)",
      "Cell \u001b[1;32mIn [88], line 1\u001b[0m\n\u001b[1;32m----> 1\u001b[0m \u001b[43msample_list\u001b[49m\u001b[43m[\u001b[49m\u001b[38;5;241;43m5\u001b[39;49m\u001b[43m]\u001b[49m\n",
      "\u001b[1;31mIndexError\u001b[0m: list index out of range"
     ]
    }
   ],
   "source": [
    "sample_list[5]"
   ]
  },
  {
   "cell_type": "code",
   "execution_count": 89,
   "id": "74785c57",
   "metadata": {},
   "outputs": [
    {
     "data": {
      "text/plain": [
       "12"
      ]
     },
     "execution_count": 89,
     "metadata": {},
     "output_type": "execute_result"
    }
   ],
   "source": [
    "sample_list[-2]"
   ]
  },
  {
   "cell_type": "code",
   "execution_count": 91,
   "id": "cfc22d4f",
   "metadata": {},
   "outputs": [],
   "source": [
    "sample_list[0]=10\n"
   ]
  },
  {
   "cell_type": "code",
   "execution_count": 92,
   "id": "8016bf5d",
   "metadata": {},
   "outputs": [],
   "source": [
    "sample_list[0]=10\n"
   ]
  },
  {
   "cell_type": "code",
   "execution_count": 93,
   "id": "2113ea72",
   "metadata": {},
   "outputs": [
    {
     "data": {
      "text/plain": [
       "[10, 13.6, 'hi', 12, 1]"
      ]
     },
     "execution_count": 93,
     "metadata": {},
     "output_type": "execute_result"
    }
   ],
   "source": [
    "sample_list\n"
   ]
  },
  {
   "cell_type": "markdown",
   "id": "4bd0a9ad",
   "metadata": {},
   "source": [
    "#### Tuple"
   ]
  },
  {
   "cell_type": "markdown",
   "id": "90784da0",
   "metadata": {},
   "source": [
    " ### Heterogenous\n",
    "    #### Paranthesis\n",
    "### can retrieve data using index\n",
    "#### Immutable\n"
   ]
  },
  {
   "cell_type": "code",
   "execution_count": 94,
   "id": "26a77695",
   "metadata": {},
   "outputs": [
    {
     "data": {
      "text/plain": [
       "(1, 13.6, 'hi', 12, 1)"
      ]
     },
     "execution_count": 94,
     "metadata": {},
     "output_type": "execute_result"
    }
   ],
   "source": [
    "sample_tuple=(1,13.6,\"hi\",12,1)\n",
    "sample_tuple"
   ]
  },
  {
   "cell_type": "code",
   "execution_count": 95,
   "id": "9455d83f",
   "metadata": {},
   "outputs": [
    {
     "data": {
      "text/plain": [
       "12"
      ]
     },
     "execution_count": 95,
     "metadata": {},
     "output_type": "execute_result"
    }
   ],
   "source": [
    "sample_tuple[-2]"
   ]
  },
  {
   "cell_type": "code",
   "execution_count": 96,
   "id": "395505b7",
   "metadata": {},
   "outputs": [
    {
     "ename": "IndexError",
     "evalue": "tuple index out of range",
     "output_type": "error",
     "traceback": [
      "\u001b[1;31m---------------------------------------------------------------------------\u001b[0m",
      "\u001b[1;31mIndexError\u001b[0m                                Traceback (most recent call last)",
      "Cell \u001b[1;32mIn [96], line 1\u001b[0m\n\u001b[1;32m----> 1\u001b[0m \u001b[43msample_tuple\u001b[49m\u001b[43m[\u001b[49m\u001b[38;5;241;43m10\u001b[39;49m\u001b[43m]\u001b[49m\n",
      "\u001b[1;31mIndexError\u001b[0m: tuple index out of range"
     ]
    }
   ],
   "source": [
    "sample_tuple[10]\n"
   ]
  },
  {
   "cell_type": "code",
   "execution_count": 97,
   "id": "9541c5ac",
   "metadata": {},
   "outputs": [
    {
     "ename": "TypeError",
     "evalue": "'tuple' object does not support item assignment",
     "output_type": "error",
     "traceback": [
      "\u001b[1;31m---------------------------------------------------------------------------\u001b[0m",
      "\u001b[1;31mTypeError\u001b[0m                                 Traceback (most recent call last)",
      "Cell \u001b[1;32mIn [97], line 1\u001b[0m\n\u001b[1;32m----> 1\u001b[0m \u001b[43msample_tuple\u001b[49m\u001b[43m[\u001b[49m\u001b[38;5;241;43m0\u001b[39;49m\u001b[43m]\u001b[49m\u001b[38;5;241m=\u001b[39m\u001b[38;5;241m10\u001b[39m\n",
      "\u001b[1;31mTypeError\u001b[0m: 'tuple' object does not support item assignment"
     ]
    }
   ],
   "source": [
    "sample_tuple[0]=10"
   ]
  },
  {
   "cell_type": "markdown",
   "id": "6c90fd9d",
   "metadata": {},
   "source": [
    "### set"
   ]
  },
  {
   "cell_type": "markdown",
   "id": "560353aa",
   "metadata": {},
   "source": [
    "### Doesnot allow duplicates\n",
    "### Ordered-First place\n",
    "### In Set,elements cannot be retrieved using index \n",
    "### mset is mutable\n",
    "\n"
   ]
  },
  {
   "cell_type": "code",
   "execution_count": 101,
   "id": "0ed6675d",
   "metadata": {},
   "outputs": [
    {
     "data": {
      "text/plain": [
       "{1, 12, 127, 13.6, 25, 'apple', 'hi', 'kin'}"
      ]
     },
     "execution_count": 101,
     "metadata": {},
     "output_type": "execute_result"
    }
   ],
   "source": [
    "sample_set={1,13.6,\"hi\",12,1,127,25,25,\"apple\",\"kin\"}\n",
    "sample_set\n"
   ]
  },
  {
   "cell_type": "code",
   "execution_count": 99,
   "id": "48753a41",
   "metadata": {},
   "outputs": [
    {
     "ename": "NameError",
     "evalue": "name 'sample_set' is not defined",
     "output_type": "error",
     "traceback": [
      "\u001b[1;31m---------------------------------------------------------------------------\u001b[0m",
      "\u001b[1;31mNameError\u001b[0m                                 Traceback (most recent call last)",
      "Cell \u001b[1;32mIn [99], line 1\u001b[0m\n\u001b[1;32m----> 1\u001b[0m \u001b[43msample_set\u001b[49m[\u001b[38;5;241m0\u001b[39m]\n",
      "\u001b[1;31mNameError\u001b[0m: name 'sample_set' is not defined"
     ]
    }
   ],
   "source": [
    "sample_set[0]"
   ]
  },
  {
   "cell_type": "code",
   "execution_count": 102,
   "id": "b57fedba",
   "metadata": {},
   "outputs": [
    {
     "ename": "TypeError",
     "evalue": "'set' object does not support item assignment",
     "output_type": "error",
     "traceback": [
      "\u001b[1;31m---------------------------------------------------------------------------\u001b[0m",
      "\u001b[1;31mTypeError\u001b[0m                                 Traceback (most recent call last)",
      "Cell \u001b[1;32mIn [102], line 1\u001b[0m\n\u001b[1;32m----> 1\u001b[0m \u001b[43msample_set\u001b[49m\u001b[43m[\u001b[49m\u001b[38;5;241;43m0\u001b[39;49m\u001b[43m]\u001b[49m\u001b[38;5;241m=\u001b[39m\u001b[38;5;124m\"\u001b[39m\u001b[38;5;124mhello\u001b[39m\u001b[38;5;124m\"\u001b[39m\n",
      "\u001b[1;31mTypeError\u001b[0m: 'set' object does not support item assignment"
     ]
    }
   ],
   "source": [
    "sample_set[0]=\"hello\""
   ]
  },
  {
   "cell_type": "code",
   "execution_count": 104,
   "id": "a5de5201",
   "metadata": {},
   "outputs": [],
   "source": [
    "sample_set.add(1000)"
   ]
  },
  {
   "cell_type": "code",
   "execution_count": 105,
   "id": "352223c8",
   "metadata": {},
   "outputs": [
    {
     "data": {
      "text/plain": [
       "{1, 1000, 12, 127, 13.6, 25, 'apple', 'hi', 'kin'}"
      ]
     },
     "execution_count": 105,
     "metadata": {},
     "output_type": "execute_result"
    }
   ],
   "source": [
    "sample_set"
   ]
  },
  {
   "cell_type": "code",
   "execution_count": 106,
   "id": "fd65f23f",
   "metadata": {},
   "outputs": [],
   "source": [
    "sample_set.remove(\"hi\")"
   ]
  },
  {
   "cell_type": "code",
   "execution_count": 107,
   "id": "6a2a2c1a",
   "metadata": {},
   "outputs": [
    {
     "data": {
      "text/plain": [
       "{1, 1000, 12, 127, 13.6, 25, 'apple', 'kin'}"
      ]
     },
     "execution_count": 107,
     "metadata": {},
     "output_type": "execute_result"
    }
   ],
   "source": [
    "sample_set\n"
   ]
  },
  {
   "cell_type": "markdown",
   "id": "0dd20a59",
   "metadata": {},
   "source": [
    "# Dictionary"
   ]
  },
  {
   "cell_type": "markdown",
   "id": "81bddd31",
   "metadata": {},
   "source": [
    "### Has key-value pair data structure\n",
    "### Key is unique\n",
    "### Values can be duplicated\n",
    "### Value can be retrieved using key\n",
    "### Key cannot be retrieved using value"
   ]
  },
  {
   "cell_type": "code",
   "execution_count": null,
   "id": "e1f573f6",
   "metadata": {},
   "outputs": [],
   "source": []
  }
 ],
 "metadata": {
  "kernelspec": {
   "display_name": "Python 3 (ipykernel)",
   "language": "python",
   "name": "python3"
  },
  "language_info": {
   "codemirror_mode": {
    "name": "ipython",
    "version": 3
   },
   "file_extension": ".py",
   "mimetype": "text/x-python",
   "name": "python",
   "nbconvert_exporter": "python",
   "pygments_lexer": "ipython3",
   "version": "3.10.9"
  }
 },
 "nbformat": 4,
 "nbformat_minor": 5
}
